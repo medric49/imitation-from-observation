{
 "cells": [
  {
   "cell_type": "code",
   "execution_count": 1,
   "outputs": [
    {
     "name": "stderr",
     "output_type": "stream",
     "text": [
      "/home/medric/anaconda3/envs/ifo/lib/python3.8/site-packages/gym/spaces/box.py:112: UserWarning: \u001B[33mWARN: Box bound precision lowered by casting to float32\u001B[0m\n",
      "  logger.warn(f\"Box bound precision lowered by casting to {self.dtype}\")\n"
     ]
    }
   ],
   "source": [
    "from matplotlib import pyplot as plt\n",
    "import numpy as np\n",
    "import random\n",
    "\n",
    "import torch\n",
    "import cmc_model\n",
    "import metaworld_env\n",
    "\n",
    "\n",
    "import context_changers\n",
    "\n",
    "import dmc\n",
    "\n",
    "import drqv2\n",
    "import utils\n",
    "\n",
    "import rl_model\n",
    "import imageio"
   ],
   "metadata": {
    "collapsed": false,
    "pycharm": {
     "name": "#%%\n"
    }
   }
  },
  {
   "cell_type": "code",
   "execution_count": 2,
   "outputs": [
    {
     "name": "stderr",
     "output_type": "stream",
     "text": [
      "/home/medric/.local/lib/python3.8/site-packages/ipykernel/ipkernel.py:287: DeprecationWarning: `should_run_async` will not call `transform_cell` automatically in the future. Please pass the result to `transformed_cell` argument and any exception that happen during thetransform in `preprocessing_exc_tuple` in IPython 7.17 and above.\n",
      "  and should_run_async(code)\n"
     ]
    }
   ],
   "source": [
    "expert_frame_stack = 3\n",
    "frame_stack = 1\n",
    "action_repeat = 2\n",
    "\n",
    "seed = 723\n",
    "agent_seed = seed\n",
    "\n",
    "episode_len = 1000\n",
    "context_camera_ids = [0]\n",
    "learner_camera_id = 0\n",
    "im_w = 64\n",
    "im_h = 64\n",
    "state_dim = 128\n",
    "cam_id = random.choice(context_camera_ids)\n",
    "\n",
    "num_eval_episodes = 1\n",
    "\n",
    "utils.set_seed_everywhere(seed)"
   ],
   "metadata": {
    "collapsed": false,
    "pycharm": {
     "name": "#%%\n"
    }
   }
  },
  {
   "cell_type": "code",
   "execution_count": 3,
   "outputs": [
    {
     "name": "stderr",
     "output_type": "stream",
     "text": [
      "/home/medric/.local/lib/python3.8/site-packages/ipykernel/ipkernel.py:287: DeprecationWarning: `should_run_async` will not call `transform_cell` automatically in the future. Please pass the result to `transformed_cell` argument and any exception that happen during thetransform in `preprocessing_exc_tuple` in IPython 7.17 and above.\n",
      "  and should_run_async(code)\n"
     ]
    }
   ],
   "source": [
    "# task_name, xml_path, virl_id, rl_id = 'reacher_hard', 'domain_xmls/reacher.xml', 3, 4\n",
    "# context_changer = context_changers.ReacherHardContextChanger()\n",
    "\n",
    "task_name, env_name, cmc_id, rl_id = 'door_open', 'door-open-v2', 2, 2\n",
    "context_changer = context_changers.NullContextChanger()\n",
    "\n",
    "expert: drqv2.DrQV2Agent = drqv2.DrQV2Agent.load(f'exp_local/{task_name}/1/snapshot.pt')\n",
    "expert.train(training=False)\n",
    "\n",
    "encoder = cmc_model.CMCModel.load(f'cmc_exp_local/{task_name}/{cmc_id}/snapshot.pt').to(utils.device())\n",
    "encoder.eval()\n",
    "\n",
    "agent = rl_model.RLAgent.load(f'rl_exp_local/{task_name}/{rl_id}/snapshot.pt')\n",
    "agent.eval()"
   ],
   "metadata": {
    "collapsed": false,
    "pycharm": {
     "name": "#%%\n"
    }
   }
  },
  {
   "cell_type": "code",
   "execution_count": 4,
   "outputs": [
    {
     "name": "stderr",
     "output_type": "stream",
     "text": [
      "/home/medric/.local/lib/python3.8/site-packages/ipykernel/ipkernel.py:287: DeprecationWarning: `should_run_async` will not call `transform_cell` automatically in the future. Please pass the result to `transformed_cell` argument and any exception that happen during thetransform in `preprocessing_exc_tuple` in IPython 7.17 and above.\n",
      "  and should_run_async(code)\n"
     ]
    }
   ],
   "source": [
    "def evaluate_agent():\n",
    "    render_size = (480, 480)\n",
    "    render_cam = cam_id\n",
    "    expert_actions = []\n",
    "    expert_frames = []\n",
    "    expert_renders = []\n",
    "\n",
    "    expert_env = metaworld_env.Env(env_name)\n",
    "    expert_env = dmc.wrap(expert_env, expert_frame_stack, action_repeat, episode_len=episode_len)\n",
    "\n",
    "    time_step = expert_env.reset()\n",
    "    with utils.change_context(expert_env, context_changer):\n",
    "        frame = expert_env.physics.render(im_w, im_h, camera_id=cam_id)\n",
    "        frame = utils.rgb_to_lab(frame)\n",
    "        expert_frames.append(frame)\n",
    "        expert_renders.append(expert_env.physics.render(*render_size, camera_id=render_cam))\n",
    "\n",
    "    with torch.no_grad():\n",
    "        while not time_step.last():\n",
    "            action = expert.act(time_step.observation, 1, eval_mode=True)\n",
    "            time_step = expert_env.step(action)\n",
    "            expert_actions.append(action)\n",
    "            with utils.change_context(expert_env, context_changer):\n",
    "                frame = expert_env.physics.render(im_w, im_h, camera_id=cam_id)\n",
    "                frame = utils.rgb_to_lab(frame)\n",
    "                expert_frames.append(frame)\n",
    "                expert_renders.append(expert_env.physics.render(*render_size, camera_id=render_cam))\n",
    "    expert_actions = np.array(expert_actions)\n",
    "\n",
    "    expert_obs_sequence = torch.tensor(np.array(expert_frames).transpose((0, 3, 1, 2)), dtype=torch.float, device=utils.device())\n",
    "    expert_state_sequence = encoder.encode_frame(expert_obs_sequence).detach().cpu().numpy()\n",
    "\n",
    "    agent_actions = []\n",
    "    agent_renders = []\n",
    "\n",
    "    eval_env = metaworld_env.Env(env_name, im_w, im_h)\n",
    "    eval_env = dmc.wrap(eval_env, frame_stack, action_repeat, episode_len=episode_len, to_lab=True)\n",
    "    eval_env = dmc.ViRLEncoderStackWrapper(eval_env, expert, encoder,\n",
    "                                                       expert_env,\n",
    "                                                       context_camera_ids,im_w,\n",
    "                                                       im_h, state_dim, frame_stack,\n",
    "                                                       context_changer,\n",
    "                                                       dist_reward=True, to_lab=True)\n",
    "\n",
    "    time_step = eval_env.reset()\n",
    "\n",
    "    agent_renders.append(eval_env.physics.render(*render_size, camera_id=render_cam))\n",
    "\n",
    "    episode_return = time_step.reward\n",
    "    while not time_step.last():\n",
    "        with torch.no_grad(), utils.eval_mode(agent):\n",
    "            state = torch.tensor(time_step.observation, device=utils.device(), dtype=torch.float)\n",
    "            action = agent.act(state, 1, eval_mode=True)\n",
    "        time_step = eval_env.step(action)\n",
    "        episode_return += time_step.reward\n",
    "        agent_actions.append(action)\n",
    "\n",
    "\n",
    "        agent_renders.append(eval_env.physics.render(*render_size, camera_id=render_cam))\n",
    "    agent_actions = np.array(agent_actions)\n",
    "\n",
    "    expert_renders = np.array(expert_renders)\n",
    "    agent_renders = np.array(agent_renders)\n",
    "\n",
    "    renders = np.concatenate([expert_renders, agent_renders], axis=2)\n",
    "    imageio.mimwrite(f'tmp/{task_name}_video.mp4', renders, 'mp4', fps=20)\n",
    "    return episode_return, agent_actions, expert_actions, expert_state_sequence, np.array(eval_env.agent_states), eval_env.expert_states, eval_env.expert_seq_states"
   ],
   "metadata": {
    "collapsed": false,
    "pycharm": {
     "name": "#%%\n"
    }
   }
  },
  {
   "cell_type": "markdown",
   "source": [
    "## Evaluations"
   ],
   "metadata": {
    "collapsed": false,
    "pycharm": {
     "name": "#%% md\n"
    }
   }
  },
  {
   "cell_type": "code",
   "execution_count": 5,
   "outputs": [
    {
     "name": "stderr",
     "output_type": "stream",
     "text": [
      "/home/medric/.local/lib/python3.8/site-packages/ipykernel/ipkernel.py:287: DeprecationWarning: `should_run_async` will not call `transform_cell` automatically in the future. Please pass the result to `transformed_cell` argument and any exception that happen during thetransform in `preprocessing_exc_tuple` in IPython 7.17 and above.\n",
      "  and should_run_async(code)\n",
      "/home/medric/anaconda3/envs/ifo/lib/python3.8/site-packages/gym/spaces/box.py:112: UserWarning: \u001B[33mWARN: Box bound precision lowered by casting to float32\u001B[0m\n",
      "  logger.warn(f\"Box bound precision lowered by casting to {self.dtype}\")\n"
     ]
    }
   ],
   "source": [
    "episode_return, agent_actions, expert_actions, e_state_seq, a_state_seq, t_e_state_seq, t_e_seq = evaluate_agent()"
   ],
   "metadata": {
    "collapsed": false,
    "pycharm": {
     "name": "#%%\n"
    }
   }
  },
  {
   "cell_type": "code",
   "execution_count": 6,
   "outputs": [
    {
     "name": "stderr",
     "output_type": "stream",
     "text": [
      "/home/medric/.local/lib/python3.8/site-packages/ipykernel/ipkernel.py:287: DeprecationWarning: `should_run_async` will not call `transform_cell` automatically in the future. Please pass the result to `transformed_cell` argument and any exception that happen during thetransform in `preprocessing_exc_tuple` in IPython 7.17 and above.\n",
      "  and should_run_async(code)\n"
     ]
    }
   ],
   "source": [
    "def encode_state_seq(state_seq):\n",
    "    state_seq = torch.tensor(state_seq, dtype=torch.float, device=utils.device())\n",
    "    z_seq = []\n",
    "    with torch.no_grad():\n",
    "        for i in range(state_seq.shape[0]):\n",
    "            z_seq.append(encoder.encode_state_seq(state_seq[:i+1])[-1].cpu().numpy())\n",
    "    z_seq = np.array(z_seq)\n",
    "    return z_seq"
   ],
   "metadata": {
    "collapsed": false,
    "pycharm": {
     "name": "#%%\n"
    }
   }
  },
  {
   "cell_type": "code",
   "execution_count": 7,
   "outputs": [
    {
     "name": "stderr",
     "output_type": "stream",
     "text": [
      "/home/medric/.local/lib/python3.8/site-packages/ipykernel/ipkernel.py:287: DeprecationWarning: `should_run_async` will not call `transform_cell` automatically in the future. Please pass the result to `transformed_cell` argument and any exception that happen during thetransform in `preprocessing_exc_tuple` in IPython 7.17 and above.\n",
      "  and should_run_async(code)\n"
     ]
    },
    {
     "data": {
      "text/plain": "<Figure size 1080x360 with 3 Axes>",
      "image/png": "[encoded data removed]"
     },
     "metadata": {
      "needs_background": "light"
     },
     "output_type": "display_data"
    }
   ],
   "source": [
    "_, axes = plt.subplots(1, 3, figsize=(15, 5))\n",
    "\n",
    "axes[0].plot(np.linalg.norm(t_e_state_seq - e_state_seq, axis=1), color='purple')\n",
    "axes[1].plot(np.linalg.norm(e_state_seq - a_state_seq, axis=1), color='green')\n",
    "axes[2].plot(np.linalg.norm(t_e_state_seq - a_state_seq, axis=1), color='orange')\n",
    "\n",
    "\n",
    "plt.show()"
   ],
   "metadata": {
    "collapsed": false,
    "pycharm": {
     "name": "#%%\n"
    }
   }
  },
  {
   "cell_type": "code",
   "execution_count": 8,
   "outputs": [
    {
     "name": "stderr",
     "output_type": "stream",
     "text": [
      "/home/medric/.local/lib/python3.8/site-packages/ipykernel/ipkernel.py:287: DeprecationWarning: `should_run_async` will not call `transform_cell` automatically in the future. Please pass the result to `transformed_cell` argument and any exception that happen during thetransform in `preprocessing_exc_tuple` in IPython 7.17 and above.\n",
      "  and should_run_async(code)\n"
     ]
    },
    {
     "data": {
      "text/plain": "256.78983"
     },
     "execution_count": 8,
     "metadata": {},
     "output_type": "execute_result"
    }
   ],
   "source": [
    "np.linalg.norm(t_e_state_seq - e_state_seq, axis=1).sum()"
   ],
   "metadata": {
    "collapsed": false,
    "pycharm": {
     "name": "#%%\n"
    }
   }
  },
  {
   "cell_type": "code",
   "execution_count": 9,
   "outputs": [
    {
     "name": "stderr",
     "output_type": "stream",
     "text": [
      "/home/medric/.local/lib/python3.8/site-packages/ipykernel/ipkernel.py:287: DeprecationWarning: `should_run_async` will not call `transform_cell` automatically in the future. Please pass the result to `transformed_cell` argument and any exception that happen during thetransform in `preprocessing_exc_tuple` in IPython 7.17 and above.\n",
      "  and should_run_async(code)\n"
     ]
    },
    {
     "data": {
      "text/plain": "754.7379"
     },
     "execution_count": 9,
     "metadata": {},
     "output_type": "execute_result"
    }
   ],
   "source": [
    "np.linalg.norm(t_e_state_seq - a_state_seq, axis=1).sum()"
   ],
   "metadata": {
    "collapsed": false,
    "pycharm": {
     "name": "#%%\n"
    }
   }
  },
  {
   "cell_type": "code",
   "execution_count": 10,
   "outputs": [
    {
     "name": "stderr",
     "output_type": "stream",
     "text": [
      "/home/medric/.local/lib/python3.8/site-packages/ipykernel/ipkernel.py:287: DeprecationWarning: `should_run_async` will not call `transform_cell` automatically in the future. Please pass the result to `transformed_cell` argument and any exception that happen during thetransform in `preprocessing_exc_tuple` in IPython 7.17 and above.\n",
      "  and should_run_async(code)\n"
     ]
    }
   ],
   "source": [
    "e_seq = encode_state_seq(e_state_seq)\n",
    "a_seq = encode_state_seq(a_state_seq)"
   ],
   "metadata": {
    "collapsed": false,
    "pycharm": {
     "name": "#%%\n"
    }
   }
  },
  {
   "cell_type": "code",
   "execution_count": 11,
   "outputs": [
    {
     "name": "stderr",
     "output_type": "stream",
     "text": [
      "/home/medric/.local/lib/python3.8/site-packages/ipykernel/ipkernel.py:287: DeprecationWarning: `should_run_async` will not call `transform_cell` automatically in the future. Please pass the result to `transformed_cell` argument and any exception that happen during thetransform in `preprocessing_exc_tuple` in IPython 7.17 and above.\n",
      "  and should_run_async(code)\n"
     ]
    },
    {
     "data": {
      "text/plain": "(251, 128)"
     },
     "execution_count": 11,
     "metadata": {},
     "output_type": "execute_result"
    }
   ],
   "source": [
    "t_e_state_seq.shape"
   ],
   "metadata": {
    "collapsed": false,
    "pycharm": {
     "name": "#%%\n"
    }
   }
  },
  {
   "cell_type": "code",
   "execution_count": 12,
   "outputs": [
    {
     "name": "stderr",
     "output_type": "stream",
     "text": [
      "/home/medric/.local/lib/python3.8/site-packages/ipykernel/ipkernel.py:287: DeprecationWarning: `should_run_async` will not call `transform_cell` automatically in the future. Please pass the result to `transformed_cell` argument and any exception that happen during thetransform in `preprocessing_exc_tuple` in IPython 7.17 and above.\n",
      "  and should_run_async(code)\n"
     ]
    },
    {
     "data": {
      "text/plain": "<Figure size 1080x360 with 3 Axes>",
      "image/png": "[encoded data removed]"
     },
     "metadata": {
      "needs_background": "light"
     },
     "output_type": "display_data"
    }
   ],
   "source": [
    "_, axes = plt.subplots(1, 3, figsize=(15, 5))\n",
    "\n",
    "axes[0].plot(np.linalg.norm(t_e_seq - e_seq, axis=1), color='purple')\n",
    "axes[1].plot(np.linalg.norm(e_seq - a_seq, axis=1), color='green')\n",
    "axes[2].plot(np.linalg.norm(t_e_seq - a_seq, axis=1), color='orange')\n",
    "\n",
    "plt.show()"
   ],
   "metadata": {
    "collapsed": false,
    "pycharm": {
     "name": "#%%\n"
    }
   }
  },
  {
   "cell_type": "code",
   "execution_count": 13,
   "outputs": [
    {
     "name": "stderr",
     "output_type": "stream",
     "text": [
      "/home/medric/.local/lib/python3.8/site-packages/ipykernel/ipkernel.py:287: DeprecationWarning: `should_run_async` will not call `transform_cell` automatically in the future. Please pass the result to `transformed_cell` argument and any exception that happen during thetransform in `preprocessing_exc_tuple` in IPython 7.17 and above.\n",
      "  and should_run_async(code)\n"
     ]
    },
    {
     "data": {
      "text/plain": "2021.5336"
     },
     "execution_count": 13,
     "metadata": {},
     "output_type": "execute_result"
    }
   ],
   "source": [
    "np.linalg.norm(t_e_seq - e_seq, axis=1)[1:].sum()"
   ],
   "metadata": {
    "collapsed": false,
    "pycharm": {
     "name": "#%%\n"
    }
   }
  },
  {
   "cell_type": "code",
   "execution_count": 14,
   "outputs": [
    {
     "name": "stderr",
     "output_type": "stream",
     "text": [
      "/home/medric/.local/lib/python3.8/site-packages/ipykernel/ipkernel.py:287: DeprecationWarning: `should_run_async` will not call `transform_cell` automatically in the future. Please pass the result to `transformed_cell` argument and any exception that happen during thetransform in `preprocessing_exc_tuple` in IPython 7.17 and above.\n",
      "  and should_run_async(code)\n"
     ]
    },
    {
     "data": {
      "text/plain": "20.595316"
     },
     "execution_count": 14,
     "metadata": {},
     "output_type": "execute_result"
    }
   ],
   "source": [
    "np.linalg.norm(t_e_seq - a_seq, axis=1)[1:].mean()"
   ],
   "metadata": {
    "collapsed": false,
    "pycharm": {
     "name": "#%%\n"
    }
   }
  },
  {
   "cell_type": "code",
   "execution_count": 14,
   "outputs": [
    {
     "name": "stderr",
     "output_type": "stream",
     "text": [
      "/home/medric/.local/lib/python3.8/site-packages/ipykernel/ipkernel.py:287: DeprecationWarning: `should_run_async` will not call `transform_cell` automatically in the future. Please pass the result to `transformed_cell` argument and any exception that happen during thetransform in `preprocessing_exc_tuple` in IPython 7.17 and above.\n",
      "  and should_run_async(code)\n"
     ]
    }
   ],
   "source": [],
   "metadata": {
    "collapsed": false,
    "pycharm": {
     "name": "#%%\n"
    }
   }
  }
 ],
 "metadata": {
  "kernelspec": {
   "display_name": "Python 3",
   "language": "python",
   "name": "python3"
  },
  "language_info": {
   "codemirror_mode": {
    "name": "ipython",
    "version": 2
   },
   "file_extension": ".py",
   "mimetype": "text/x-python",
   "name": "python",
   "nbconvert_exporter": "python",
   "pygments_lexer": "ipython2",
   "version": "2.7.6"
  }
 },
 "nbformat": 4,
 "nbformat_minor": 0
}